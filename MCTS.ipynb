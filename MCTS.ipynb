{
  "nbformat": 4,
  "nbformat_minor": 0,
  "metadata": {
    "colab": {
      "provenance": [],
      "collapsed_sections": [],
      "authorship_tag": "ABX9TyMJ4wPWoV0X7zEJxtnVlpI6",
      "include_colab_link": true
    },
    "kernelspec": {
      "name": "python3",
      "display_name": "Python 3"
    },
    "language_info": {
      "name": "python"
    }
  },
  "cells": [
    {
      "cell_type": "markdown",
      "metadata": {
        "id": "view-in-github",
        "colab_type": "text"
      },
      "source": [
        "<a href=\"https://colab.research.google.com/github/fezilemahlangu/Reinforcement-Learning-Project/blob/master/MCTS.ipynb\" target=\"_parent\"><img src=\"https://colab.research.google.com/assets/colab-badge.svg\" alt=\"Open In Colab\"/></a>"
      ]
    },
    {
      "cell_type": "markdown",
      "source": [
        "# Installing Dependencies"
      ],
      "metadata": {
        "id": "AK86zImAe8MW"
      }
    },
    {
      "cell_type": "code",
      "execution_count": null,
      "metadata": {
        "id": "75VyHPAnYk2e"
      },
      "outputs": [],
      "source": [
        "#https://towardsdatascience.com/deep-reinforcement-learning-and-monte-carlo-tree-search-with-connect-4-ba22a4713e7a\n"
      ]
    },
    {
      "cell_type": "code",
      "source": [
        "!apt update\n",
        "!apt install -y cmake\n",
        "!apt-get install -y build-essential autoconf libtool pkg-config\n",
        "!apt-get install flex bison libbz2-dev\n",
        "!pip install nle\n",
        "!pip install minihack\n",
        "!python -m minihack.scripts.env_list\n",
        "!pip install gym[atari,accept-rom-license]"
      ],
      "metadata": {
        "id": "ASHEtNDpe2BT"
      },
      "execution_count": null,
      "outputs": []
    },
    {
      "cell_type": "markdown",
      "source": [
        "# Libraries"
      ],
      "metadata": {
        "id": "MxuFUSFZfOwt"
      }
    },
    {
      "cell_type": "code",
      "source": [
        "import numpy as np\n",
        "import matplotlib.pyplot as plt\n",
        "import gym\n",
        "import nle\n",
        "import minihack\n",
        "from gym import spaces\n",
        "import torch.nn as nn\n",
        "import torch.nn.functional as F\n",
        "from torch.optim import Adam\n",
        "import torch\n",
        "import random\n",
        "\n",
        "import warnings\n",
        "warnings.filterwarnings(\"ignore\")"
      ],
      "metadata": {
        "id": "yrhieh3LfQMj"
      },
      "execution_count": null,
      "outputs": []
    },
    {
      "cell_type": "markdown",
      "source": [
        "# MCTS"
      ],
      "metadata": {
        "id": "z57SZ_nlfUQg"
      }
    },
    {
      "cell_type": "markdown",
      "source": [
        "# Node"
      ],
      "metadata": {
        "id": "37hV5k2_gQwh"
      }
    },
    {
      "cell_type": "code",
      "source": [
        "class Node():\n",
        "  def __init__(self,state, parent,  parent_action):\n",
        "\n",
        "    self.state = state\n",
        "  \n",
        "  def bestChild():\n",
        "    \n",
        "\n"
      ],
      "metadata": {
        "id": "QstfHIxqfU-m"
      },
      "execution_count": null,
      "outputs": []
    },
    {
      "cell_type": "markdown",
      "source": [
        "# Main"
      ],
      "metadata": {
        "id": "DNk7Sj411Nmd"
      }
    },
    {
      "cell_type": "code",
      "source": [
        "env = gym.make(\"MiniHack-Quest-Hard-v0\")\n",
        "\n",
        "init_state = env.reset()"
      ],
      "metadata": {
        "id": "7kru-NQj1NG7"
      },
      "execution_count": null,
      "outputs": []
    }
  ]
}